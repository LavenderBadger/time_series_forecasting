{
 "cells": [
  {
   "cell_type": "markdown",
   "metadata": {},
   "source": [
    "Univariate Time Series Methods\n",
    "AR, MA, ARIMA\n",
    "Holt's Winter method\n",
    "\n",
    "Multivariate Time Series \n",
    "Vector Auto Regression\n",
    "LSTM Networks"
   ]
  },
  {
   "cell_type": "markdown",
   "metadata": {},
   "source": [
    "AR, MA, ARIMA"
   ]
  },
  {
   "cell_type": "markdown",
   "metadata": {},
   "source": [
    "Holts Winter Method\n",
    "1. Trend - General pattern in the values of a time period (Holt's linear method)\n",
    "2. Level - Average value in the series\n",
    "3. Seasonality - Seasonal pattern (exponential smoothing is applied to seasonality)\n",
    "\n",
    "Four equations\n",
    "1. level\n",
    "2. trend\n",
    "3. seasonality\n",
    "4. forecast\n",
    "\n"
   ]
  },
  {
   "cell_type": "markdown",
   "metadata": {},
   "source": [
    "Multivariate Time Series Method\n",
    "Vector Auto Regression (VAR) \n",
    "2 equations\n",
    "1. each value is a \n"
   ]
  },
  {
   "cell_type": "markdown",
   "metadata": {},
   "source": [
    "LSTM Networks (RNN)\n"
   ]
  }
 ],
 "metadata": {
  "kernelspec": {
   "display_name": "Python 3",
   "language": "python",
   "name": "python3"
  },
  "language_info": {
   "codemirror_mode": {
    "name": "ipython",
    "version": 3
   },
   "file_extension": ".py",
   "mimetype": "text/x-python",
   "name": "python",
   "nbconvert_exporter": "python",
   "pygments_lexer": "ipython3",
   "version": "3.6.1"
  }
 },
 "nbformat": 4,
 "nbformat_minor": 2
}
